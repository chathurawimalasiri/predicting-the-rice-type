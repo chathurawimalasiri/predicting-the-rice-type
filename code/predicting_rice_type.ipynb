{
  "nbformat": 4,
  "nbformat_minor": 0,
  "metadata": {
    "colab": {
      "provenance": []
    },
    "kernelspec": {
      "name": "python3",
      "display_name": "Python 3"
    },
    "language_info": {
      "name": "python"
    },
    "accelerator": "GPU",
    "gpuClass": "standard"
  },
  "cells": [
    {
      "cell_type": "code",
      "source": [
        "# Importing necessary libraries\n",
        "\n",
        "# For visualizations\n",
        "import matplotlib.pyplot as plt\n",
        "import matplotlib.image as img\n",
        "import PIL.Image as Image\n",
        "import cv2\n",
        "\n",
        "import os\n",
        "import numpy as np\n",
        "import pathlib\n"
      ],
      "metadata": {
        "id": "xzxc7dXn6cK5"
      },
      "execution_count": null,
      "outputs": []
    },
    {
      "cell_type": "code",
      "source": [
        "path = \"https://drive.google.com/drive/folders/1jVUdiIscWDBn4Mm8O6uHTiHXdqumv_MU?usp=sharing\"\n",
        "path = pathlib.Path(path)\n"
      ],
      "metadata": {
        "id": "n3VNFmIs92F7"
      },
      "execution_count": null,
      "outputs": []
    },
    {
      "cell_type": "code",
      "source": [
        "arborio = list(path.glob('Arborio/*'))[:600]\n",
        "basmati = list(path.glob('Basmati/*'))[:600]\n",
        "ipsala = list(path.glob('Ipsala/*'))[:600]\n",
        "jasmine = list(path.glob('Jasmine/*'))[:600]\n",
        "karacadag = list(path.glob('Karacadag/*'))[:600]\n",
        "\n",
        "ax[0].set_title('arborio')\n",
        "ax[1].set_title('basmati')\n",
        "ax[2].set_title('ipsala')\n",
        "ax[3].set_title('jasmine')\n",
        "ax[4].set_title('karacadag')\n",
        "\n",
        "\n",
        "ax[0].imshow(arborio_img)\n",
        "ax[1].imshow(basmati_img)\n",
        "ax[2].imshow(ipsala_img)\n",
        "ax[3].imshow(jasmine_img)\n",
        "ax[4].imshow(karacadag_img)"
      ],
      "metadata": {
        "id": "_HD8dOzB94JK"
      },
      "execution_count": null,
      "outputs": []
    },
    {
      "cell_type": "code",
      "source": [],
      "metadata": {
        "id": "qwR0RbOidrQv"
      },
      "execution_count": null,
      "outputs": []
    }
  ]
}